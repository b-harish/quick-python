{
 "cells": [
  {
   "cell_type": "markdown",
   "id": "ce3cc214",
   "metadata": {},
   "source": [
    "## v1"
   ]
  },
  {
   "cell_type": "code",
   "execution_count": 53,
   "id": "eb9e1fec",
   "metadata": {},
   "outputs": [],
   "source": [
    "import datetime\n",
    "import pathlib\n",
    "\n",
    "FILE_PATTERN = \"*.txt\"\n",
    "ARCHIVE = \"archive\" # this folder must exist for the below code to work\n",
    "\n",
    "if __name__ == '__main__':\n",
    "    \n",
    "    date_string = datetime.date.today().strftime(\"%d-%m-%Y\")\n",
    "    \n",
    "    cur_path = pathlib.Path(\".\")\n",
    "    paths = cur_path.glob(FILE_PATTERN)\n",
    "    \n",
    "    for path in paths:\n",
    "        new_filename = \"{}_{}{}\".format(date_string, path.stem, path.suffix)\n",
    "        new_path = cur_path.joinpath(ARCHIVE, new_filename)\n",
    "        path.rename(new_path) # renames (and moves) the file"
   ]
  },
  {
   "cell_type": "markdown",
   "id": "c5f5a7b0",
   "metadata": {},
   "source": [
    "## v2 Create subdirectory with name as date and move files under them"
   ]
  },
  {
   "cell_type": "code",
   "execution_count": 54,
   "id": "4222b9bc",
   "metadata": {},
   "outputs": [],
   "source": [
    "import datetime\n",
    "import pathlib\n",
    "\n",
    "FILE_PATTERN = \"*.txt\"\n",
    "ARCHIVE = \"archive\" # this folder must exist for the below code to work\n",
    "\n",
    "if __name__ == '__main__':\n",
    "    \n",
    "    date_string = datetime.date.today().strftime(\"%d-%m-%Y\")\n",
    "    \n",
    "    cur_path = pathlib.Path(\".\")\n",
    "\n",
    "    new_path = cur_path.joinpath(ARCHIVE, date_string)\n",
    "    new_path.mkdir()\n",
    "    \n",
    "    paths = cur_path.glob(FILE_PATTERN)\n",
    "    \n",
    "    for path in paths:\n",
    "        path.rename(new_path.joinpath(path.name)) # renames (and moves) the file"
   ]
  },
  {
   "cell_type": "markdown",
   "id": "0e6c69f5",
   "metadata": {},
   "source": [
    "## Saving storage space: Compression and grooming"
   ]
  },
  {
   "cell_type": "code",
   "execution_count": 56,
   "id": "91e85377",
   "metadata": {},
   "outputs": [],
   "source": [
    "import datetime\n",
    "import pathlib\n",
    "import zipfile\n",
    "\n",
    "FILE_PATTERN = \"*.txt\"\n",
    "ARCHIVE = \"archive\" # this folder must exist for the below code to work\n",
    "\n",
    "if __name__ == '__main__':\n",
    "    \n",
    "    date_string = datetime.date.today().strftime(\"%d-%m-%Y\")\n",
    "    \n",
    "    cur_path = pathlib.Path(\".\")\n",
    "    paths = cur_path.glob(FILE_PATTERN)\n",
    "\n",
    "    zip_file_path = cur_path.joinpath(ARCHIVE, date_string + \".zip\")\n",
    "    zip_file = zipfile.ZipFile(str(zip_file_path), \"w\") # opens the new zip file object for writing\n",
    "    \n",
    "    for path in paths:\n",
    "        zip_file.write(str(path)) # writes current file to zip file\n",
    "        path.unlink() # removes current file from the working directory"
   ]
  },
  {
   "cell_type": "markdown",
   "id": "18d6b1ad",
   "metadata": {},
   "source": [
    "## Grooming script"
   ]
  },
  {
   "cell_type": "code",
   "execution_count": 58,
   "id": "9fc27952",
   "metadata": {},
   "outputs": [],
   "source": [
    "from datetime import datetime, timedelta\n",
    "import pathlib\n",
    "import zipfile\n",
    "\n",
    "FILE_PATTERN = \"*.zip\"\n",
    "ARCHIVE = \"archive\"\n",
    "ARCHIVE_WEEKDAY = 1\n",
    "\n",
    "if __name__ == '__main__':\n",
    "    cur_path = pathlib.Path(\".\")\n",
    "    zip_files_path = cur_path.joinpath(ARCHIVE)\n",
    "    \n",
    "    paths = zip_files_path.glob(FILE_PATTERN)\n",
    "    current_date = datetime.today()\n",
    "    \n",
    "    for path in paths:\n",
    "        name = path.stem\n",
    "        path_date = datetime.strptime(name, '%d-%m-%Y')\n",
    "        path_timedelta = current_date - path_date\n",
    "        \n",
    "        if path_timedelta > timedelta(days=30) and path_date.weekday() != ARCHIVE_WEEKDAY:\n",
    "            path.unlink()"
   ]
  },
  {
   "cell_type": "code",
   "execution_count": null,
   "id": "f9d86584",
   "metadata": {},
   "outputs": [],
   "source": []
  }
 ],
 "metadata": {
  "kernelspec": {
   "display_name": "Python 3 (ipykernel)",
   "language": "python",
   "name": "python3"
  },
  "language_info": {
   "codemirror_mode": {
    "name": "ipython",
    "version": 3
   },
   "file_extension": ".py",
   "mimetype": "text/x-python",
   "name": "python",
   "nbconvert_exporter": "python",
   "pygments_lexer": "ipython3",
   "version": "3.10.7"
  }
 },
 "nbformat": 4,
 "nbformat_minor": 5
}
