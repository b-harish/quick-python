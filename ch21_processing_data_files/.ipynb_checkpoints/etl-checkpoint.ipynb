{
 "cells": [
  {
   "cell_type": "markdown",
   "id": "45084fa5",
   "metadata": {},
   "source": [
    "## 21.1 Extract Transform Load (ETL)\n",
    "\n",
    "* **Extract**: opening a file and reading its contents.\n",
    "* **Transform**: \n",
    "* **Load**:"
   ]
  },
  {
   "cell_type": "markdown",
   "id": "88482345",
   "metadata": {},
   "source": [
    "## 21.2 Reading text files"
   ]
  },
  {
   "cell_type": "markdown",
   "id": "799c1d99",
   "metadata": {},
   "source": [
    "### 21.2.1 Text encoding: ASCII, Unicode"
   ]
  },
  {
   "cell_type": "code",
   "execution_count": 2,
   "id": "6298ae7c",
   "metadata": {},
   "outputs": [
    {
     "data": {
      "text/plain": [
       "6"
      ]
     },
     "execution_count": 2,
     "metadata": {},
     "output_type": "execute_result"
    }
   ],
   "source": [
    "open('test.txt', 'wb').write(bytes([65, 66, 67, 255, 192, 193])) # writes and returns # character written"
   ]
  },
  {
   "cell_type": "code",
   "execution_count": 3,
   "id": "c317863e",
   "metadata": {},
   "outputs": [
    {
     "ename": "UnicodeDecodeError",
     "evalue": "'utf-8' codec can't decode byte 0xff in position 3: invalid start byte",
     "output_type": "error",
     "traceback": [
      "\u001b[0;31m---------------------------------------------------------------------------\u001b[0m",
      "\u001b[0;31mUnicodeDecodeError\u001b[0m                        Traceback (most recent call last)",
      "Cell \u001b[0;32mIn [3], line 1\u001b[0m\n\u001b[0;32m----> 1\u001b[0m x \u001b[38;5;241m=\u001b[39m \u001b[38;5;28;43mopen\u001b[39;49m\u001b[43m(\u001b[49m\u001b[38;5;124;43m'\u001b[39;49m\u001b[38;5;124;43mtest.txt\u001b[39;49m\u001b[38;5;124;43m'\u001b[39;49m\u001b[43m)\u001b[49m\u001b[38;5;241;43m.\u001b[39;49m\u001b[43mread\u001b[49m\u001b[43m(\u001b[49m\u001b[43m)\u001b[49m\n",
      "File \u001b[0;32m/usr/local/lib/python3.10/codecs.py:322\u001b[0m, in \u001b[0;36mBufferedIncrementalDecoder.decode\u001b[0;34m(self, input, final)\u001b[0m\n\u001b[1;32m    319\u001b[0m \u001b[38;5;28;01mdef\u001b[39;00m \u001b[38;5;21mdecode\u001b[39m(\u001b[38;5;28mself\u001b[39m, \u001b[38;5;28minput\u001b[39m, final\u001b[38;5;241m=\u001b[39m\u001b[38;5;28;01mFalse\u001b[39;00m):\n\u001b[1;32m    320\u001b[0m     \u001b[38;5;66;03m# decode input (taking the buffer into account)\u001b[39;00m\n\u001b[1;32m    321\u001b[0m     data \u001b[38;5;241m=\u001b[39m \u001b[38;5;28mself\u001b[39m\u001b[38;5;241m.\u001b[39mbuffer \u001b[38;5;241m+\u001b[39m \u001b[38;5;28minput\u001b[39m\n\u001b[0;32m--> 322\u001b[0m     (result, consumed) \u001b[38;5;241m=\u001b[39m \u001b[38;5;28;43mself\u001b[39;49m\u001b[38;5;241;43m.\u001b[39;49m\u001b[43m_buffer_decode\u001b[49m\u001b[43m(\u001b[49m\u001b[43mdata\u001b[49m\u001b[43m,\u001b[49m\u001b[43m \u001b[49m\u001b[38;5;28;43mself\u001b[39;49m\u001b[38;5;241;43m.\u001b[39;49m\u001b[43merrors\u001b[49m\u001b[43m,\u001b[49m\u001b[43m \u001b[49m\u001b[43mfinal\u001b[49m\u001b[43m)\u001b[49m\n\u001b[1;32m    323\u001b[0m     \u001b[38;5;66;03m# keep undecoded input until the next call\u001b[39;00m\n\u001b[1;32m    324\u001b[0m     \u001b[38;5;28mself\u001b[39m\u001b[38;5;241m.\u001b[39mbuffer \u001b[38;5;241m=\u001b[39m data[consumed:]\n",
      "\u001b[0;31mUnicodeDecodeError\u001b[0m: 'utf-8' codec can't decode byte 0xff in position 3: invalid start byte"
     ]
    }
   ],
   "source": [
    "x = open('test.txt').read() # by default errors='strict'"
   ]
  },
  {
   "cell_type": "code",
   "execution_count": 4,
   "id": "89696601",
   "metadata": {},
   "outputs": [
    {
     "data": {
      "text/plain": [
       "'ABC'"
      ]
     },
     "execution_count": 4,
     "metadata": {},
     "output_type": "execute_result"
    }
   ],
   "source": [
    "open('test.txt', errors='ignore').read()"
   ]
  },
  {
   "cell_type": "code",
   "execution_count": 8,
   "id": "ffed12b5",
   "metadata": {},
   "outputs": [
    {
     "data": {
      "text/plain": [
       "'ABC���'"
      ]
     },
     "execution_count": 8,
     "metadata": {},
     "output_type": "execute_result"
    }
   ],
   "source": [
    "open('test.txt', errors='replace').read() # replaced by marker '?' character"
   ]
  },
  {
   "cell_type": "code",
   "execution_count": 6,
   "id": "fdbb79bf",
   "metadata": {},
   "outputs": [
    {
     "data": {
      "text/plain": [
       "'ABC\\udcff\\udcc0\\udcc1'"
      ]
     },
     "execution_count": 6,
     "metadata": {},
     "output_type": "execute_result"
    }
   ],
   "source": [
    "open('test.txt', errors='surrogateescape').read()"
   ]
  },
  {
   "cell_type": "code",
   "execution_count": 7,
   "id": "61d61c92",
   "metadata": {},
   "outputs": [
    {
     "data": {
      "text/plain": [
       "'ABC\\\\xff\\\\xc0\\\\xc1'"
      ]
     },
     "execution_count": 7,
     "metadata": {},
     "output_type": "execute_result"
    }
   ],
   "source": [
    "open('test.txt', errors='backslashreplace').read()"
   ]
  },
  {
   "cell_type": "markdown",
   "id": "31f1ef14",
   "metadata": {},
   "source": [
    "### 21.2.2 Unstructured text"
   ]
  },
  {
   "cell_type": "code",
   "execution_count": 13,
   "id": "daa17801",
   "metadata": {},
   "outputs": [
    {
     "name": "stdout",
     "output_type": "stream",
     "text": [
      "Para1 word2, end.\n"
     ]
    }
   ],
   "source": [
    "moby_text = open('moby_01.txt').read()\n",
    "moby_paragraphs = moby_text.split('\\n\\n')\n",
    "print(moby_paragraphs[0])"
   ]
  },
  {
   "cell_type": "code",
   "execution_count": 14,
   "id": "4170b240",
   "metadata": {},
   "outputs": [
    {
     "data": {
      "text/plain": [
       "4"
      ]
     },
     "execution_count": 14,
     "metadata": {},
     "output_type": "execute_result"
    }
   ],
   "source": [
    "len(moby_paragraphs)"
   ]
  },
  {
   "cell_type": "code",
   "execution_count": 15,
   "id": "f6c8062f",
   "metadata": {},
   "outputs": [
    {
     "data": {
      "text/plain": [
       "''"
      ]
     },
     "execution_count": 15,
     "metadata": {},
     "output_type": "execute_result"
    }
   ],
   "source": [
    "moby_paragraphs[3]"
   ]
  },
  {
   "cell_type": "code",
   "execution_count": 16,
   "id": "5aacee0f",
   "metadata": {},
   "outputs": [
    {
     "data": {
      "text/plain": [
       "'para1 word2, end.'"
      ]
     },
     "execution_count": 16,
     "metadata": {},
     "output_type": "execute_result"
    }
   ],
   "source": [
    "moby_paragraphs[0].lower()"
   ]
  },
  {
   "cell_type": "code",
   "execution_count": 18,
   "id": "499d5b6d",
   "metadata": {},
   "outputs": [],
   "source": [
    "moby = moby_paragraphs[0].lower()"
   ]
  },
  {
   "cell_type": "code",
   "execution_count": 19,
   "id": "c23c1d76",
   "metadata": {},
   "outputs": [
    {
     "name": "stdout",
     "output_type": "stream",
     "text": [
      "['para1', 'word2', 'end']\n"
     ]
    }
   ],
   "source": [
    "moby = moby.replace(\".\", \"\")\n",
    "moby = moby.replace(\",\", \"\")\n",
    "moby_words = moby.split(\" \")\n",
    "print(moby_words)"
   ]
  },
  {
   "cell_type": "markdown",
   "id": "db85aba3",
   "metadata": {},
   "source": [
    "### 21.2.3 Delimited flat files"
   ]
  },
  {
   "cell_type": "code",
   "execution_count": 20,
   "id": "0725bdfd",
   "metadata": {},
   "outputs": [
    {
     "name": "stdout",
     "output_type": "stream",
     "text": [
      "['Illinois', '1979/01/01', '17.48', '994']\n"
     ]
    }
   ],
   "source": [
    "line = \"Illinois|1979/01/01|17.48|994\"\n",
    "print(line.split(\"|\"))"
   ]
  },
  {
   "cell_type": "code",
   "execution_count": 24,
   "id": "2625c69c",
   "metadata": {},
   "outputs": [
    {
     "data": {
      "text/plain": [
       "[['State',\n",
       "  'Month Day, Year Code',\n",
       "  'Avg Daily Max Air Temperature (F)',\n",
       "  'Record Count for Daily Max Air Temp (F)'],\n",
       " ['Illinois', '1979/01/01', '17.48', '994'],\n",
       " ['Illinois', '1979/01/02', '4.64', '994'],\n",
       " ['Illinois', '1979/01/03', '11.05', '994'],\n",
       " ['Illinois', '1979/01/04', '9.51', '994'],\n",
       " ['Illinois', '1979/05/15', '68.42', '994'],\n",
       " ['Illinois', '1979/05/16', '70.29', '994'],\n",
       " ['Illinois', '1979/05/17', '75.34', '994'],\n",
       " ['Illinois', '1979/05/18', '79.13', '994'],\n",
       " ['Illinois', '1979/05/19', '74.94', '994']]"
      ]
     },
     "execution_count": 24,
     "metadata": {},
     "output_type": "execute_result"
    }
   ],
   "source": [
    "results = []\n",
    "for line in open('temp_data_pipes_00a.txt'):\n",
    "    fields = line.strip().split(\"|\")\n",
    "    results.append(fields)\n",
    "results"
   ]
  },
  {
   "cell_type": "markdown",
   "id": "c21d0ed9",
   "metadata": {},
   "source": [
    "### 21.2.4 The csv module"
   ]
  },
  {
   "cell_type": "code",
   "execution_count": 26,
   "id": "26e32e14",
   "metadata": {},
   "outputs": [
    {
     "data": {
      "text/plain": [
       "[['State',\n",
       "  'Month Day, Year Code',\n",
       "  'Avg Daily Max Air Temperature (F)',\n",
       "  'Record Count for Daily Max Air Temp (F)'],\n",
       " ['Illinois', '1979/01/01', '17.48', '994'],\n",
       " ['Illinois', '1979/01/02', '4.64', '994'],\n",
       " ['Illinois', '1979/01/03', '11.05', '994'],\n",
       " ['Illinois', '1979/01/04', '9.51', '994'],\n",
       " ['Illinois', '1979/05/15', '68.42', '994'],\n",
       " ['Illinois', '1979/05/16', '70.29', '994'],\n",
       " ['Illinois', '1979/05/17', '75.34', '994'],\n",
       " ['Illinois', '1979/05/18', '79.13', '994'],\n",
       " ['Illinois', '1979/05/19', '74.94', '994']]"
      ]
     },
     "execution_count": 26,
     "metadata": {},
     "output_type": "execute_result"
    }
   ],
   "source": [
    "import csv\n",
    "\n",
    "results = [fields for fields in csv.reader(open('temp_data_pipes_00a.txt'), delimiter=\"|\")]\n",
    "results"
   ]
  },
  {
   "cell_type": "markdown",
   "id": "0dfe9362",
   "metadata": {},
   "source": [
    "#### complex data\n",
    "here, the fields are doublt quoted (some are not). first field is empty. ',' inside the field"
   ]
  },
  {
   "cell_type": "code",
   "execution_count": 34,
   "id": "a64d6db4",
   "metadata": {},
   "outputs": [
    {
     "name": "stdout",
     "output_type": "stream",
     "text": [
      "\"Notes\",\"State\",\"State Code\",\"Month Day, Year\",\"Month Day, Year Code\",Avg Daily Max Air Temperature (F),Record Count for Daily Max Air Temp (F),Min Temp for Daily Max Air Temp (F),Max Temp for Daily Max Air Temp (F),Avg Daily Min Air Temperature (F),Record Count for Daily Min Air Temp (F),Min Temp for Daily Min Air Temp (F),Max Temp for Daily Min Air Temp (F),Avg Daily Max Heat Index (F),Record Count for Daily Max Heat Index (F),Min for Daily Max Heat Index (F),Max for Daily Max Heat Index (F),Daily Max Heat Index (F) % Coverage\n",
      ",\"Illinois\",\"17\",\"Jan 01, 1979\",\"1979/01/01\",17.48,994,6.00,30.50,2.89,994,-13.60,15.80,Missing,0,Missing,Missing,0.00%\n",
      ",\"Illinois\",\"17\",\"Jan 02, 1979\",\"1979/01/02\",4.64,994,-6.40,15.80,-9.03,994,-23.60,6.60,Missing,0,Missing,Missing,0.00%\n",
      ",\"Illinois\",\"17\",\"Jan 03, 1979\",\"1979/01/03\",11.05,994,-0.70,24.70,-2.17,994,-18.30,12.90,Missing,0,Missing,Missing,0.00%\n",
      ",\"Illinois\",\"17\",\"Jan 04, 1979\",\"1979/01/04\",9.51,994,0.20,27.60,-0.43,994,-16.30,16.30,Missing,0,Missing,Missing,0.00%\n",
      ",\"Illinois\",\"17\",\"May 15, 1979\",\"1979/05/15\",68.42,994,61.00,75.10,51.30,994,43.30,57.00,Missing,0,Missing,Missing,0.00%\n",
      ",\"Illinois\",\"17\",\"May 16, 1979\",\"1979/05/16\",70.29,994,63.40,73.50,48.09,994,41.10,53.00,Missing,0,Missing,Missing,0.00%\n",
      ",\"Illinois\",\"17\",\"May 17, 1979\",\"1979/05/17\",75.34,994,64.00,80.50,50.84,994,44.30,55.70,82.60,2,82.40,82.80,0.20%\n",
      ",\"Illinois\",\"17\",\"May 18, 1979\",\"1979/05/18\",79.13,994,75.50,82.10,55.68,994,50.00,61.10,81.42,349,80.20,83.40,35.11%\n",
      ",\"Illinois\",\"17\",\"May 19, 1979\",\"1979/05/19\",74.94,994,66.90,83.10,58.59,994,50.90,63.20,82.87,78,81.60,85.20,7.85%\n",
      "\n"
     ]
    }
   ],
   "source": [
    "print(open('temp_data_01.csv').read())"
   ]
  },
  {
   "cell_type": "code",
   "execution_count": 37,
   "id": "d4a71b87",
   "metadata": {},
   "outputs": [
    {
     "data": {
      "text/plain": [
       "[['Notes',\n",
       "  'State',\n",
       "  'State Code',\n",
       "  'Month Day, Year',\n",
       "  'Month Day, Year Code',\n",
       "  'Avg Daily Max Air Temperature (F)',\n",
       "  'Record Count for Daily Max Air Temp (F)',\n",
       "  'Min Temp for Daily Max Air Temp (F)',\n",
       "  'Max Temp for Daily Max Air Temp (F)',\n",
       "  'Avg Daily Min Air Temperature (F)',\n",
       "  'Record Count for Daily Min Air Temp (F)',\n",
       "  'Min Temp for Daily Min Air Temp (F)',\n",
       "  'Max Temp for Daily Min Air Temp (F)',\n",
       "  'Avg Daily Max Heat Index (F)',\n",
       "  'Record Count for Daily Max Heat Index (F)',\n",
       "  'Min for Daily Max Heat Index (F)',\n",
       "  'Max for Daily Max Heat Index (F)',\n",
       "  'Daily Max Heat Index (F) % Coverage'],\n",
       " ['',\n",
       "  'Illinois',\n",
       "  '17',\n",
       "  'Jan 01, 1979',\n",
       "  '1979/01/01',\n",
       "  '17.48',\n",
       "  '994',\n",
       "  '6.00',\n",
       "  '30.50',\n",
       "  '2.89',\n",
       "  '994',\n",
       "  '-13.60',\n",
       "  '15.80',\n",
       "  'Missing',\n",
       "  '0',\n",
       "  'Missing',\n",
       "  'Missing',\n",
       "  '0.00%'],\n",
       " ['',\n",
       "  'Illinois',\n",
       "  '17',\n",
       "  'Jan 02, 1979',\n",
       "  '1979/01/02',\n",
       "  '4.64',\n",
       "  '994',\n",
       "  '-6.40',\n",
       "  '15.80',\n",
       "  '-9.03',\n",
       "  '994',\n",
       "  '-23.60',\n",
       "  '6.60',\n",
       "  'Missing',\n",
       "  '0',\n",
       "  'Missing',\n",
       "  'Missing',\n",
       "  '0.00%'],\n",
       " ['',\n",
       "  'Illinois',\n",
       "  '17',\n",
       "  'Jan 03, 1979',\n",
       "  '1979/01/03',\n",
       "  '11.05',\n",
       "  '994',\n",
       "  '-0.70',\n",
       "  '24.70',\n",
       "  '-2.17',\n",
       "  '994',\n",
       "  '-18.30',\n",
       "  '12.90',\n",
       "  'Missing',\n",
       "  '0',\n",
       "  'Missing',\n",
       "  'Missing',\n",
       "  '0.00%'],\n",
       " ['',\n",
       "  'Illinois',\n",
       "  '17',\n",
       "  'Jan 04, 1979',\n",
       "  '1979/01/04',\n",
       "  '9.51',\n",
       "  '994',\n",
       "  '0.20',\n",
       "  '27.60',\n",
       "  '-0.43',\n",
       "  '994',\n",
       "  '-16.30',\n",
       "  '16.30',\n",
       "  'Missing',\n",
       "  '0',\n",
       "  'Missing',\n",
       "  'Missing',\n",
       "  '0.00%'],\n",
       " ['',\n",
       "  'Illinois',\n",
       "  '17',\n",
       "  'May 15, 1979',\n",
       "  '1979/05/15',\n",
       "  '68.42',\n",
       "  '994',\n",
       "  '61.00',\n",
       "  '75.10',\n",
       "  '51.30',\n",
       "  '994',\n",
       "  '43.30',\n",
       "  '57.00',\n",
       "  'Missing',\n",
       "  '0',\n",
       "  'Missing',\n",
       "  'Missing',\n",
       "  '0.00%'],\n",
       " ['',\n",
       "  'Illinois',\n",
       "  '17',\n",
       "  'May 16, 1979',\n",
       "  '1979/05/16',\n",
       "  '70.29',\n",
       "  '994',\n",
       "  '63.40',\n",
       "  '73.50',\n",
       "  '48.09',\n",
       "  '994',\n",
       "  '41.10',\n",
       "  '53.00',\n",
       "  'Missing',\n",
       "  '0',\n",
       "  'Missing',\n",
       "  'Missing',\n",
       "  '0.00%'],\n",
       " ['',\n",
       "  'Illinois',\n",
       "  '17',\n",
       "  'May 17, 1979',\n",
       "  '1979/05/17',\n",
       "  '75.34',\n",
       "  '994',\n",
       "  '64.00',\n",
       "  '80.50',\n",
       "  '50.84',\n",
       "  '994',\n",
       "  '44.30',\n",
       "  '55.70',\n",
       "  '82.60',\n",
       "  '2',\n",
       "  '82.40',\n",
       "  '82.80',\n",
       "  '0.20%'],\n",
       " ['',\n",
       "  'Illinois',\n",
       "  '17',\n",
       "  'May 18, 1979',\n",
       "  '1979/05/18',\n",
       "  '79.13',\n",
       "  '994',\n",
       "  '75.50',\n",
       "  '82.10',\n",
       "  '55.68',\n",
       "  '994',\n",
       "  '50.00',\n",
       "  '61.10',\n",
       "  '81.42',\n",
       "  '349',\n",
       "  '80.20',\n",
       "  '83.40',\n",
       "  '35.11%'],\n",
       " ['',\n",
       "  'Illinois',\n",
       "  '17',\n",
       "  'May 19, 1979',\n",
       "  '1979/05/19',\n",
       "  '74.94',\n",
       "  '994',\n",
       "  '66.90',\n",
       "  '83.10',\n",
       "  '58.59',\n",
       "  '994',\n",
       "  '50.90',\n",
       "  '63.20',\n",
       "  '82.87',\n",
       "  '78',\n",
       "  '81.60',\n",
       "  '85.20',\n",
       "  '7.85%']]"
      ]
     },
     "execution_count": 37,
     "metadata": {},
     "output_type": "execute_result"
    }
   ],
   "source": [
    "results2 = [fields for fields in csv.reader(open('temp_data_01.csv'))]\n",
    "results2 # commas inside double quotes are intact"
   ]
  },
  {
   "cell_type": "markdown",
   "id": "f96fcd23",
   "metadata": {},
   "source": [
    "#### without csv module"
   ]
  },
  {
   "cell_type": "code",
   "execution_count": 51,
   "id": "a4937662",
   "metadata": {},
   "outputs": [
    {
     "name": "stdout",
     "output_type": "stream",
     "text": [
      "['Notes', 'State', 'State Code', 'Month Day, Year', 'Month Day', ' Year Code']\n",
      "[',Illinois', '17', 'Jan 01, 1979', '1979/01/01', '17.48', '994', '6.00', '30.50', '2.89', '994', '-13.60', '15.80', 'Missing', '0', 'Missing', 'Missing', '0.00%']\n",
      "[',Illinois', '17', 'Jan 02, 1979', '1979/01/02', '4.64', '994', '-6.40', '15.80', '-9.03', '994', '-23.60', '6.60', 'Missing', '0', 'Missing', 'Missing', '0.00%']\n",
      "[',Illinois', '17', 'Jan 03, 1979', '1979/01/03', '11.05', '994', '-0.70', '24.70', '-2.17', '994', '-18.30', '12.90', 'Missing', '0', 'Missing', 'Missing', '0.00%']\n",
      "[',Illinois', '17', 'Jan 04, 1979', '1979/01/04', '9.51', '994', '0.20', '27.60', '-0.43', '994', '-16.30', '16.30', 'Missing', '0', 'Missing', 'Missing', '0.00%']\n",
      "[',Illinois', '17', 'May 15, 1979', '1979/05/15', '68.42', '994', '61.00', '75.10', '51.30', '994', '43.30', '57.00', 'Missing', '0', 'Missing', 'Missing', '0.00%']\n",
      "[',Illinois', '17', 'May 16, 1979', '1979/05/16', '70.29', '994', '63.40', '73.50', '48.09', '994', '41.10', '53.00', 'Missing', '0', 'Missing', 'Missing', '0.00%']\n",
      "[',Illinois', '17', 'May 17, 1979', '1979/05/17', '75.34', '994', '64.00', '80.50', '50.84', '994', '44.30', '55.70', '82.60', '2', '82.40', '82.80', '0.20%']\n",
      "[',Illinois', '17', 'May 18, 1979', '1979/05/18', '79.13', '994', '75.50', '82.10', '55.68', '994', '50.00', '61.10', '81.42', '349', '80.20', '83.40', '35.11%']\n",
      "[',Illinois', '17', 'May 19, 1979', '1979/05/19', '74.94', '994', '66.90', '83.10', '58.59', '994', '50.90', '63.20', '82.87', '78', '81.60', '85.20', '7.85%']\n"
     ]
    }
   ],
   "source": [
    "for line in open('temp_data_01.csv'):\n",
    "    line = line.strip()\n",
    "    fields = line.split('\",')\n",
    "    fields = fields[:4] + fields[4].split(',')\n",
    "    fields = [field.replace('\"', \"\") for field in fields]\n",
    "    print(fields)"
   ]
  },
  {
   "cell_type": "markdown",
   "id": "e265b099",
   "metadata": {},
   "source": [
    " ### 21.2.5 Reading a csv file as a list of dictionaries\n",
    "* Result is list of rows where each row is mapped to a dictionary with key as the column name.\n",
    "* `csv.DictReader` returns `OrderedDict`. so fields stay in their original order.\n",
    "* If data is quite large, `DictReader` takes the order of twice as long to read same amount of data."
   ]
  },
  {
   "cell_type": "code",
   "execution_count": 55,
   "id": "0c2fe0ce",
   "metadata": {},
   "outputs": [
    {
     "data": {
      "text/plain": [
       "{'Notes': '',\n",
       " 'State': 'Illinois',\n",
       " 'State Code': '17',\n",
       " 'Month Day, Year': 'Jan 01, 1979',\n",
       " 'Month Day, Year Code': '1979/01/01',\n",
       " 'Avg Daily Max Air Temperature (F)': '17.48',\n",
       " 'Record Count for Daily Max Air Temp (F)': '994',\n",
       " 'Min Temp for Daily Max Air Temp (F)': '6.00',\n",
       " 'Max Temp for Daily Max Air Temp (F)': '30.50',\n",
       " 'Avg Daily Min Air Temperature (F)': '2.89',\n",
       " 'Record Count for Daily Min Air Temp (F)': '994',\n",
       " 'Min Temp for Daily Min Air Temp (F)': '-13.60',\n",
       " 'Max Temp for Daily Min Air Temp (F)': '15.80',\n",
       " 'Avg Daily Max Heat Index (F)': 'Missing',\n",
       " 'Record Count for Daily Max Heat Index (F)': '0',\n",
       " 'Min for Daily Max Heat Index (F)': 'Missing',\n",
       " 'Max for Daily Max Heat Index (F)': 'Missing',\n",
       " 'Daily Max Heat Index (F) % Coverage': '0.00%'}"
      ]
     },
     "execution_count": 55,
     "metadata": {},
     "output_type": "execute_result"
    }
   ],
   "source": [
    "results = [fields for fields in csv.DictReader(open('temp_data_01.csv'))]\n",
    "results[0]"
   ]
  },
  {
   "cell_type": "code",
   "execution_count": 59,
   "id": "7586025c",
   "metadata": {},
   "outputs": [
    {
     "data": {
      "text/plain": [
       "'Illinois'"
      ]
     },
     "execution_count": 59,
     "metadata": {},
     "output_type": "execute_result"
    }
   ],
   "source": [
    "results[0]['State']"
   ]
  },
  {
   "cell_type": "markdown",
   "id": "2a23d7d7",
   "metadata": {},
   "source": [
    "## 21.3 Excel Files"
   ]
  },
  {
   "cell_type": "code",
   "execution_count": 62,
   "id": "b207ea32",
   "metadata": {},
   "outputs": [
    {
     "name": "stdout",
     "output_type": "stream",
     "text": [
      "[['Notes', 'State', 'State Code', 'Month Day, Year', 'Month Day, Year Code', 'Avg Daily Max Air Temperature (F)', 'Record Count for Daily Max Air Temp (F)', 'Min Temp for Daily Max Air Temp (F)', 'Max Temp for Daily Max Air Temp (F)', 'Avg Daily Max Heat Index (F)', 'Record Count for Daily Max Heat Index (F)', 'Min for Daily Max Heat Index (F)', 'Max for Daily Max Heat Index (F)', 'Daily Max Heat Index (F) % Coverage'], [None, 'Illinois', 17, 'Jan 01, 1979', '1979/01/01', 17.48, 994, 6, 30.5, 'Missing', 0, 'Missing', 'Missing', '0.00%'], [None, 'Illinois', 17, 'Jan 02, 1979', '1979/01/02', 4.64, 994, -6.4, 15.8, 'Missing', 0, 'Missing', 'Missing', '0.00%'], [None, 'Illinois', 17, 'Jan 03, 1979', '1979/01/03', 11.05, 994, -0.7, 24.7, 'Missing', 0, 'Missing', 'Missing', '0.00%'], [None, 'Illinois', 17, 'Jan 04, 1979', '1979/01/04', 9.51, 994, 0.2, 27.6, 'Missing', 0, 'Missing', 'Missing', '0.00%'], [None, 'Illinois', 17, 'May 15, 1979', '1979/05/15', 68.42, 994, 61, 75.1, 'Missing', 0, 'Missing', 'Missing', '0.00%'], [None, 'Illinois', 17, 'May 16, 1979', '1979/05/16', 70.29, 994, 63.4, 73.5, 'Missing', 0, 'Missing', 'Missing', '0.00%'], [None, 'Illinois', 17, 'May 17, 1979', '1979/05/17', 75.34, 994, 64, 80.5, 82.6, 2, 82.4, 82.8, '0.20%'], [None, 'Illinois', 17, 'May 18, 1979', '1979/05/18', 79.13, 994, 75.5, 82.1, 81.42, 349, 80.2, 83.4, '35.11%'], [None, 'Illinois', 17, 'May 19, 1979', '1979/05/19', 74.94, 994, 66.9, 83.1, 82.87, 78, 81.6, 85.2, '7.85%']]\n"
     ]
    }
   ],
   "source": [
    "from openpyxl import load_workbook\n",
    "\n",
    "wb = load_workbook('temp_data_01.xlsx')\n",
    "ws = wb.worksheets[0]\n",
    "\n",
    "results = []\n",
    "for row in ws.iter_rows():\n",
    "    results.append([cell.value for cell in row])\n",
    "print(results)    "
   ]
  },
  {
   "cell_type": "markdown",
   "id": "90df0ea3",
   "metadata": {},
   "source": [
    "#### Challenges\n",
    "\n",
    "* Most spreadsheets automatically interpret 1E20 as 1.00E+20 while ignoring 1E20 as a string.\n",
    "* Formatting of spreadsheets, if macros are used, they are significant and hard to process. Much care to be taken.\n",
    "\n",
    "It's always good to use CSV when at all possible. We can save the spreadsheet as CSV whenever possible."
   ]
  },
  {
   "cell_type": "markdown",
   "id": "1b8b92a8",
   "metadata": {},
   "source": [
    "## 21.4 Data cleaning\n",
    "\n",
    "The process of dealing with situations like null values, illegal values, extra whitespaces etc., is called *data cleaning*"
   ]
  },
  {
   "cell_type": "markdown",
   "id": "26aa0517",
   "metadata": {},
   "source": [
    "### 21.4.1 Cleaning"
   ]
  },
  {
   "cell_type": "markdown",
   "id": "5808d6f6",
   "metadata": {},
   "source": [
    "### 21.4.2 Sorting"
   ]
  },
  {
   "cell_type": "markdown",
   "id": "2746ec37",
   "metadata": {},
   "source": [
    "### 21.4.3 Data cleaning issues and pitfalls"
   ]
  },
  {
   "cell_type": "markdown",
   "id": "416b8120",
   "metadata": {},
   "source": [
    "## 21.5 Writing data files"
   ]
  },
  {
   "cell_type": "markdown",
   "id": "365e47b2",
   "metadata": {},
   "source": [
    "### 21.5.1 CSV and other delimited files"
   ]
  },
  {
   "cell_type": "markdown",
   "id": "fb2f5c2e",
   "metadata": {},
   "source": [
    "### 21.5.2 Writing Excel files"
   ]
  },
  {
   "cell_type": "markdown",
   "id": "6d0ee23f",
   "metadata": {},
   "source": [
    "### 21.5.3 Packaging data files"
   ]
  },
  {
   "cell_type": "markdown",
   "id": "7f3f0fa4",
   "metadata": {},
   "source": [
    "## Lab 21: Weather Observations"
   ]
  },
  {
   "cell_type": "code",
   "execution_count": null,
   "id": "c77ac636",
   "metadata": {},
   "outputs": [],
   "source": []
  }
 ],
 "metadata": {
  "kernelspec": {
   "display_name": "Python 3 (ipykernel)",
   "language": "python",
   "name": "python3"
  },
  "language_info": {
   "codemirror_mode": {
    "name": "ipython",
    "version": 3
   },
   "file_extension": ".py",
   "mimetype": "text/x-python",
   "name": "python",
   "nbconvert_exporter": "python",
   "pygments_lexer": "ipython3",
   "version": "3.10.7"
  }
 },
 "nbformat": 4,
 "nbformat_minor": 5
}
